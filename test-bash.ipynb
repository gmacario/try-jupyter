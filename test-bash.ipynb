{
 "cells": [
  {
   "cell_type": "markdown",
   "metadata": {},
   "source": [
    "# Trying bash inside jupyter"
   ]
  },
  {
   "cell_type": "code",
   "execution_count": 16,
   "metadata": {},
   "outputs": [
    {
     "name": "stdout",
     "output_type": "stream",
     "text": [
      "+ set -x\n",
      "+ git --version\n",
      "git version 2.7.4\n"
     ]
    },
    {
     "ename": "",
     "evalue": "1",
     "output_type": "error",
     "traceback": []
    }
   ],
   "source": [
    "set -x \n",
    "\n",
    "id\n",
    "pwd\n",
    "df -h\n",
    "env | sort\n",
    "ps axf\n",
    "cat /etc/os-release\n",
    "cat /proc/cpuinfo\n",
    "cat /proc/meminfo\n",
    "\n",
    "git --version\n",
    "\n",
    "dpkg -l\n",
    "\n",
    "ls -la /bin\n",
    "ls -la /sbin\n",
    "\n",
    "# nslookup www.cisco.com\n",
    "#\n",
    "# ifconfig\n",
    "# ip address\n",
    "# ip route"
   ]
  },
  {
   "cell_type": "code",
   "execution_count": null,
   "metadata": {},
   "outputs": [],
   "source": []
  }
 ],
 "metadata": {
  "kernelspec": {
   "display_name": "Bash",
   "language": "bash",
   "name": "bash"
  },
  "language_info": {
   "codemirror_mode": "shell",
   "file_extension": ".sh",
   "mimetype": "text/x-sh",
   "name": "bash"
  }
 },
 "nbformat": 4,
 "nbformat_minor": 2
}
